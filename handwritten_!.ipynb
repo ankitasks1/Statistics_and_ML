{
 "cells": [
  {
   "cell_type": "code",
   "execution_count": 7,
   "id": "8224e498-7e71-4e73-ad51-591e03b29bcd",
   "metadata": {},
   "outputs": [],
   "source": [
    "import tensorflow as tf\n",
    "from tensorflow.keras import layers, models\n",
    "import matplotlib.pyplot as plt\n",
    "import numpy as np\n",
    "from tensorflow.keras.models import load_model\n",
    "import cv2"
   ]
  },
  {
   "cell_type": "code",
   "execution_count": null,
   "id": "446226a1-147f-456c-8e64-671464b820c6",
   "metadata": {},
   "outputs": [],
   "source": [
    "# Load dataset (MNIST but filter only 0 & 1, then resize to 20×20)"
   ]
  },
  {
   "cell_type": "code",
   "execution_count": 15,
   "id": "f2e26dc3-669b-4293-84ad-2aa078b069c3",
   "metadata": {},
   "outputs": [
    {
     "name": "stdout",
     "output_type": "stream",
     "text": [
      "Downloading data from https://storage.googleapis.com/tensorflow/tf-keras-datasets/mnist.npz\n",
      "11490434/11490434 [==============================] - 2s 0us/step\n",
      "Training shape: (12665, 400)\n",
      "Test shape: (2115, 400)\n"
     ]
    }
   ],
   "source": [
    "import tensorflow as tf\n",
    "import numpy as np\n",
    "import cv2\n",
    "import matplotlib.pyplot as plt\n",
    "\n",
    "# Load MNIST\n",
    "(X_train, y_train), (X_test, y_test) = tf.keras.datasets.mnist.load_data()\n",
    "\n",
    "# Filter only digits 0 and 1\n",
    "train_filter = np.where((y_train == 0) | (y_train == 1))\n",
    "test_filter = np.where((y_test == 0) | (y_test == 1))\n",
    "\n",
    "X_train, y_train = X_train[train_filter], y_train[train_filter]\n",
    "X_test, y_test = X_test[test_filter], y_test[test_filter]\n",
    "\n",
    "# Resize 28x28 → 20x20\n",
    "X_train_resized = np.array([cv2.resize(img, (20, 20)) for img in X_train])\n",
    "X_test_resized = np.array([cv2.resize(img, (20, 20)) for img in X_test])\n",
    "\n",
    "# Normalize to 0–1\n",
    "X_train_resized = X_train_resized / 255.0\n",
    "X_test_resized = X_test_resized / 255.0\n",
    "\n",
    "# Flatten into 400-dim vectors\n",
    "X_train_flat = X_train_resized.reshape(X_train_resized.shape[0], 400)\n",
    "X_test_flat = X_test_resized.reshape(X_test_resized.shape[0], 400)\n",
    "\n",
    "print(\"Training shape:\", X_train_flat.shape)\n",
    "print(\"Test shape:\", X_test_flat.shape)\n"
   ]
  },
  {
   "cell_type": "code",
   "execution_count": 28,
   "id": "133c3b0b-c069-42de-bb15-16a5a0c30d5d",
   "metadata": {},
   "outputs": [
    {
     "data": {
      "text/plain": [
       "array([0, 1, 1, ..., 1, 0, 1], dtype=uint8)"
      ]
     },
     "execution_count": 28,
     "metadata": {},
     "output_type": "execute_result"
    }
   ],
   "source": [
    "y_train"
   ]
  },
  {
   "cell_type": "code",
   "execution_count": 16,
   "id": "16bc5dbb-2dbe-4dbd-9e41-aa9830fee49d",
   "metadata": {},
   "outputs": [
    {
     "name": "stdout",
     "output_type": "stream",
     "text": [
      "Model: \"sequential\"\n",
      "_________________________________________________________________\n",
      " Layer (type)                Output Shape              Param #   \n",
      "=================================================================\n",
      " dense (Dense)               (None, 1)                 401       \n",
      "                                                                 \n",
      "=================================================================\n",
      "Total params: 401 (1.57 KB)\n",
      "Trainable params: 401 (1.57 KB)\n",
      "Non-trainable params: 0 (0.00 Byte)\n",
      "_________________________________________________________________\n"
     ]
    }
   ],
   "source": [
    "# Build a simple logistic regression model in TensorFlow\n",
    "model = tf.keras.Sequential([\n",
    "    tf.keras.layers.Input(shape=(400,)),\n",
    "    tf.keras.layers.Dense(1, activation='sigmoid')  # Binary output\n",
    "])\n",
    "\n",
    "model.compile(optimizer='adam',\n",
    "              loss='binary_crossentropy',\n",
    "              metrics=['accuracy'])\n",
    "\n",
    "model.summary()\n"
   ]
  },
  {
   "cell_type": "code",
   "execution_count": 17,
   "id": "c38fd7bf-049a-451a-9e3a-2f0364a7560f",
   "metadata": {},
   "outputs": [
    {
     "name": "stdout",
     "output_type": "stream",
     "text": [
      "Epoch 1/10\n",
      "357/357 [==============================] - 1s 911us/step - loss: 0.2058 - accuracy: 0.9557 - val_loss: 0.0649 - val_accuracy: 0.9929\n",
      "Epoch 2/10\n",
      "357/357 [==============================] - 0s 655us/step - loss: 0.0457 - accuracy: 0.9952 - val_loss: 0.0305 - val_accuracy: 0.9968\n",
      "Epoch 3/10\n",
      "357/357 [==============================] - 0s 682us/step - loss: 0.0260 - accuracy: 0.9966 - val_loss: 0.0196 - val_accuracy: 0.9968\n",
      "Epoch 4/10\n",
      "357/357 [==============================] - 0s 630us/step - loss: 0.0182 - accuracy: 0.9970 - val_loss: 0.0138 - val_accuracy: 0.9984\n",
      "Epoch 5/10\n",
      "357/357 [==============================] - 0s 630us/step - loss: 0.0139 - accuracy: 0.9977 - val_loss: 0.0107 - val_accuracy: 0.9984\n",
      "Epoch 6/10\n",
      "357/357 [==============================] - 0s 639us/step - loss: 0.0113 - accuracy: 0.9977 - val_loss: 0.0084 - val_accuracy: 0.9992\n",
      "Epoch 7/10\n",
      "357/357 [==============================] - 0s 647us/step - loss: 0.0095 - accuracy: 0.9982 - val_loss: 0.0068 - val_accuracy: 0.9992\n",
      "Epoch 8/10\n",
      "357/357 [==============================] - 0s 650us/step - loss: 0.0081 - accuracy: 0.9983 - val_loss: 0.0055 - val_accuracy: 0.9992\n",
      "Epoch 9/10\n",
      "357/357 [==============================] - 0s 666us/step - loss: 0.0071 - accuracy: 0.9986 - val_loss: 0.0047 - val_accuracy: 0.9992\n",
      "Epoch 10/10\n",
      "357/357 [==============================] - 0s 698us/step - loss: 0.0063 - accuracy: 0.9985 - val_loss: 0.0040 - val_accuracy: 0.9992\n"
     ]
    }
   ],
   "source": [
    "# Train the model\n",
    "history = model.fit(X_train_flat, y_train, epochs=10,\n",
    "                    batch_size=32, validation_split=0.1)\n"
   ]
  },
  {
   "cell_type": "code",
   "execution_count": 12,
   "id": "abe016f4-97ca-4a16-99d5-b488919b2bfb",
   "metadata": {},
   "outputs": [],
   "source": [
    "\n",
    "# Load your image\n",
    "img_path = \"/home/ankit.verma/Pictures/Screenshots/Screenshot from 2025-09-14 14-30-56.png\"\n",
    "img = cv2.imread(img_path, cv2.IMREAD_GRAYSCALE)"
   ]
  },
  {
   "cell_type": "code",
   "execution_count": 18,
   "id": "9f130d5f-19e7-4474-83e6-770064b38c4d",
   "metadata": {},
   "outputs": [
    {
     "name": "stdout",
     "output_type": "stream",
     "text": [
      "67/67 - 0s - loss: 0.0037 - accuracy: 0.9995 - 41ms/epoch - 606us/step\n",
      "Test accuracy: 0.9995\n"
     ]
    }
   ],
   "source": [
    "# Evaluate\n",
    "test_loss, test_acc = model.evaluate(X_test_flat, y_test, verbose=2)\n",
    "print(f\"Test accuracy: {test_acc:.4f}\")\n"
   ]
  },
  {
   "cell_type": "code",
   "execution_count": 13,
   "id": "70a026db-d71f-4384-a205-5954479d9c2a",
   "metadata": {},
   "outputs": [
    {
     "data": {
      "text/plain": [
       "array([[255, 255, 255, ..., 255, 255, 255],\n",
       "       [255, 255, 255, ..., 255, 255, 255],\n",
       "       [255, 255, 255, ..., 255, 255, 255],\n",
       "       ...,\n",
       "       [255, 255, 255, ..., 255, 255, 255],\n",
       "       [255, 255, 255, ..., 255, 255, 255],\n",
       "       [255, 255, 255, ..., 255, 255, 255]], dtype=uint8)"
      ]
     },
     "execution_count": 13,
     "metadata": {},
     "output_type": "execute_result"
    }
   ],
   "source": [
    "img"
   ]
  },
  {
   "cell_type": "code",
   "execution_count": 24,
   "id": "6d2a8e0e-0c69-4943-b3e0-538847eb38bb",
   "metadata": {},
   "outputs": [
    {
     "data": {
      "image/png": "[encoded data removed]",
      "text/plain": [
       "<Figure size 640x480 with 1 Axes>"
      ]
     },
     "metadata": {},
     "output_type": "display_data"
    }
   ],
   "source": [
    "# Load & preprocess your image\n",
    "# Invert colors if background is white and digit is dark\n",
    "# (MNIST digits are white on black)\n",
    "img = cv2.bitwise_not(img)\n",
    "\n",
    "\n",
    "# Resize to 20x20\n",
    "img_resized = cv2.resize(img, (20, 20))\n",
    "\n",
    "# Normalize\n",
    "img_resized = img_resized / 255.0\n",
    "\n",
    "plt.imshow(img_resized, cmap=\"gray\")\n",
    "plt.title(\"Preprocessed Image\")\n",
    "plt.show()"
   ]
  },
  {
   "cell_type": "code",
   "execution_count": 26,
   "id": "36a29f95-8b38-41d8-b488-48b95ea7975d",
   "metadata": {},
   "outputs": [
    {
     "name": "stdout",
     "output_type": "stream",
     "text": [
      "1/1 [==============================] - 0s 21ms/step\n",
      "Predicted digit: 1, Probability of being '1': 0.9612\n"
     ]
    }
   ],
   "source": [
    "# Flatten to 400 features\n",
    "img_flat = img_resized.reshape(1, 400)\n",
    "\n",
    "# Predict probability\n",
    "prob = model.predict(img_flat)[0][0]\n",
    "prob\n",
    "prediction = 1 if prob >= 0.1 else 0\n",
    "\n",
    "print(f\"Predicted digit: {prediction}, Probability of being '1': {prob:.4f}\")"
   ]
  },
  {
   "cell_type": "code",
   "execution_count": null,
   "id": "e8737920-b0f0-422c-84d7-aca190753dd9",
   "metadata": {},
   "outputs": [],
   "source": [
    "# Load the trained model & predict"
   ]
  }
 ],
 "metadata": {
  "kernelspec": {
   "display_name": "Python 3 (ipykernel)",
   "language": "python",
   "name": "python3"
  },
  "language_info": {
   "codemirror_mode": {
    "name": "ipython",
    "version": 3
   },
   "file_extension": ".py",
   "mimetype": "text/x-python",
   "name": "python",
   "nbconvert_exporter": "python",
   "pygments_lexer": "ipython3",
   "version": "3.10.12"
  }
 },
 "nbformat": 4,
 "nbformat_minor": 5
}
